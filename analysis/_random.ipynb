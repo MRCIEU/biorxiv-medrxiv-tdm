{
 "cells": [
  {
   "cell_type": "code",
   "execution_count": 1,
   "id": "c2e3c931-e0a9-432d-ace3-5d82ad0439d3",
   "metadata": {},
   "outputs": [],
   "source": [
    "%load_ext autoreload\n",
    "%autoreload 2"
   ]
  },
  {
   "cell_type": "code",
   "execution_count": 2,
   "id": "f4ed3e11-6700-460d-8446-4e29d415b00d",
   "metadata": {},
   "outputs": [],
   "source": [
    "from yiutils.project_utils import find_project_root"
   ]
  },
  {
   "cell_type": "code",
   "execution_count": 3,
   "id": "d6a1a6d6-fc42-44ff-8c2b-cebdcdfdcc5e",
   "metadata": {},
   "outputs": [
    {
     "name": "stdout",
     "output_type": "stream",
     "text": [
      "/data/ik18445/projects/biorxiv-medrxiv-tdm\n"
     ]
    }
   ],
   "source": [
    "root = find_project_root()\n",
    "print(root)"
   ]
  },
  {
   "cell_type": "code",
   "execution_count": 4,
   "id": "32531531-2bd4-48b6-93b8-896ac2f03a32",
   "metadata": {},
   "outputs": [],
   "source": [
    "from funcs.paths import paths"
   ]
  },
  {
   "cell_type": "code",
   "execution_count": 5,
   "id": "b22c9315-7ce8-457b-8321-3fe865d31f38",
   "metadata": {},
   "outputs": [
    {
     "data": {
      "text/plain": [
       "{'root': PosixPath('/data/ik18445/projects/biorxiv-medrxiv-tdm'),\n",
       " 'data_root': PosixPath('/data/ik18445/projects/biorxiv-medrxiv-tdm/data'),\n",
       " 'raw_data_dir': PosixPath('/data/ik18445/projects/biorxiv-medrxiv-tdm/data/local-source-data'),\n",
       " 'examples_data_dir': PosixPath('/data/ik18445/projects/biorxiv-medrxiv-tdm/data/local-source-data/examples'),\n",
       " 'output': PosixPath('/data/ik18445/projects/biorxiv-medrxiv-tdm/output'),\n",
       " 'tmp_output': PosixPath('/data/ik18445/projects/biorxiv-medrxiv-tdm/output/tmp')}"
      ]
     },
     "execution_count": 5,
     "metadata": {},
     "output_type": "execute_result"
    }
   ],
   "source": [
    "paths"
   ]
  },
  {
   "cell_type": "markdown",
   "id": "da32c7b8-60f4-480c-8ed0-66e5f7b1e5e6",
   "metadata": {},
   "source": [
    "---"
   ]
  },
  {
   "cell_type": "code",
   "execution_count": 14,
   "id": "255a05b1-8250-4266-b848-87b27a5fbf4c",
   "metadata": {},
   "outputs": [],
   "source": [
    "import ast\n",
    "\n",
    "import pandas as pd"
   ]
  },
  {
   "cell_type": "code",
   "execution_count": 17,
   "id": "35765e2a-aa00-4cc2-a5f4-bfd00c1a3f68",
   "metadata": {},
   "outputs": [],
   "source": [
    "tmp_res_file = paths[\"tmp_output\"] / \"tmp_results.csv\"\n",
    "assert tmp_res_file.exists(), tmp_res_file\n",
    "\n",
    "tmp_res = pd.read_csv(tmp_res_file)"
   ]
  },
  {
   "cell_type": "code",
   "execution_count": 18,
   "id": "8b5a5757-44b5-453a-95dd-f0e4f151f8ce",
   "metadata": {},
   "outputs": [
    {
     "name": "stdout",
     "output_type": "stream",
     "text": [
      "<class 'pandas.core.frame.DataFrame'>\n",
      "RangeIndex: 800 entries, 0 to 799\n",
      "Data columns (total 6 columns):\n",
      " #   Column          Non-Null Count  Dtype  \n",
      "---  ------          --------------  -----  \n",
      " 0   zip_path        800 non-null    object \n",
      " 1   full_text_file  800 non-null    object \n",
      " 2   title           800 non-null    object \n",
      " 3   version         800 non-null    float64\n",
      " 4   category        799 non-null    object \n",
      " 5   year_month      800 non-null    object \n",
      "dtypes: float64(1), object(5)\n",
      "memory usage: 37.6+ KB\n"
     ]
    },
    {
     "data": {
      "text/html": [
       "<div>\n",
       "<style scoped>\n",
       "    .dataframe tbody tr th:only-of-type {\n",
       "        vertical-align: middle;\n",
       "    }\n",
       "\n",
       "    .dataframe tbody tr th {\n",
       "        vertical-align: top;\n",
       "    }\n",
       "\n",
       "    .dataframe thead th {\n",
       "        text-align: right;\n",
       "    }\n",
       "</style>\n",
       "<table border=\"1\" class=\"dataframe\">\n",
       "  <thead>\n",
       "    <tr style=\"text-align: right;\">\n",
       "      <th></th>\n",
       "      <th>zip_path</th>\n",
       "      <th>full_text_file</th>\n",
       "      <th>title</th>\n",
       "      <th>version</th>\n",
       "      <th>category</th>\n",
       "      <th>year_month</th>\n",
       "    </tr>\n",
       "  </thead>\n",
       "  <tbody>\n",
       "    <tr>\n",
       "      <th>0</th>\n",
       "      <td>medrxiv/Current_Content/March_2023/b0e350bd-6d...</td>\n",
       "      <td>content/23286782.xml</td>\n",
       "      <td>Epigenetic, psychological, and EEG changes aft...</td>\n",
       "      <td>1.1</td>\n",
       "      <td>Psychiatry and Clinical Psychology</td>\n",
       "      <td>{'year': 2023, 'month': 3}</td>\n",
       "    </tr>\n",
       "    <tr>\n",
       "      <th>1</th>\n",
       "      <td>medrxiv/Current_Content/March_2023/de06d6bd-6c...</td>\n",
       "      <td>content/23287316.xml</td>\n",
       "      <td>The utility of ChatGPT for cancer treatment in...</td>\n",
       "      <td>1.1</td>\n",
       "      <td>Health Informatics</td>\n",
       "      <td>{'year': 2023, 'month': 3}</td>\n",
       "    </tr>\n",
       "    <tr>\n",
       "      <th>2</th>\n",
       "      <td>medrxiv/Current_Content/March_2023/19da261a-6c...</td>\n",
       "      <td>content/23286752.xml</td>\n",
       "      <td>Differential expression of fibroblast activati...</td>\n",
       "      <td>1.1</td>\n",
       "      <td>Oncology</td>\n",
       "      <td>{'year': 2023, 'month': 3}</td>\n",
       "    </tr>\n",
       "    <tr>\n",
       "      <th>3</th>\n",
       "      <td>medrxiv/Current_Content/March_2023/f0c7fa39-6c...</td>\n",
       "      <td>content/23287763.xml</td>\n",
       "      <td>Transient loss and recovery of oral chemesthes...</td>\n",
       "      <td>1.1</td>\n",
       "      <td>Infectious Diseases (except HIV/AIDS)</td>\n",
       "      <td>{'year': 2023, 'month': 3}</td>\n",
       "    </tr>\n",
       "    <tr>\n",
       "      <th>4</th>\n",
       "      <td>medrxiv/Current_Content/March_2023/035e37af-6b...</td>\n",
       "      <td>content/23287642.xml</td>\n",
       "      <td>Association between maternal high-risk fertili...</td>\n",
       "      <td>1.1</td>\n",
       "      <td>Public and Global Health</td>\n",
       "      <td>{'year': 2023, 'month': 3}</td>\n",
       "    </tr>\n",
       "    <tr>\n",
       "      <th>...</th>\n",
       "      <td>...</td>\n",
       "      <td>...</td>\n",
       "      <td>...</td>\n",
       "      <td>...</td>\n",
       "      <td>...</td>\n",
       "      <td>...</td>\n",
       "    </tr>\n",
       "    <tr>\n",
       "      <th>795</th>\n",
       "      <td>medrxiv/Current_Content/March_2023/2f253e2c-6c...</td>\n",
       "      <td>content/23287013.xml</td>\n",
       "      <td>Influence of socioeconomic status on the prese...</td>\n",
       "      <td>1.1</td>\n",
       "      <td>Cardiovascular Medicine</td>\n",
       "      <td>{'year': 2023, 'month': 3}</td>\n",
       "    </tr>\n",
       "    <tr>\n",
       "      <th>796</th>\n",
       "      <td>medrxiv/Current_Content/March_2023/12bb6c71-6b...</td>\n",
       "      <td>content/23287519.xml</td>\n",
       "      <td>Endemic-epidemic modelling of school closure t...</td>\n",
       "      <td>1.1</td>\n",
       "      <td>Epidemiology</td>\n",
       "      <td>{'year': 2023, 'month': 3}</td>\n",
       "    </tr>\n",
       "    <tr>\n",
       "      <th>797</th>\n",
       "      <td>medrxiv/Current_Content/March_2023/649ff946-6c...</td>\n",
       "      <td>content/23287669.xml</td>\n",
       "      <td>b'Long-term Exposure to Ambient PM2.5 and Hosp...</td>\n",
       "      <td>1.1</td>\n",
       "      <td>Epidemiology</td>\n",
       "      <td>{'year': 2023, 'month': 3}</td>\n",
       "    </tr>\n",
       "    <tr>\n",
       "      <th>798</th>\n",
       "      <td>medrxiv/Current_Content/March_2023/cfd88ee4-6b...</td>\n",
       "      <td>content/22276982.xml</td>\n",
       "      <td>A Targeted Approach for Evaluating DUX4-Regula...</td>\n",
       "      <td>1.2</td>\n",
       "      <td>Neurology</td>\n",
       "      <td>{'year': 2023, 'month': 3}</td>\n",
       "    </tr>\n",
       "    <tr>\n",
       "      <th>799</th>\n",
       "      <td>medrxiv/Current_Content/March_2023/49e4a1b0-6c...</td>\n",
       "      <td>content/23286839.xml</td>\n",
       "      <td>Crop Filling: a pipeline for repairing memory ...</td>\n",
       "      <td>1.1</td>\n",
       "      <td>Neurology</td>\n",
       "      <td>{'year': 2023, 'month': 3}</td>\n",
       "    </tr>\n",
       "  </tbody>\n",
       "</table>\n",
       "<p>800 rows × 6 columns</p>\n",
       "</div>"
      ],
      "text/plain": [
       "                                              zip_path        full_text_file  \\\n",
       "0    medrxiv/Current_Content/March_2023/b0e350bd-6d...  content/23286782.xml   \n",
       "1    medrxiv/Current_Content/March_2023/de06d6bd-6c...  content/23287316.xml   \n",
       "2    medrxiv/Current_Content/March_2023/19da261a-6c...  content/23286752.xml   \n",
       "3    medrxiv/Current_Content/March_2023/f0c7fa39-6c...  content/23287763.xml   \n",
       "4    medrxiv/Current_Content/March_2023/035e37af-6b...  content/23287642.xml   \n",
       "..                                                 ...                   ...   \n",
       "795  medrxiv/Current_Content/March_2023/2f253e2c-6c...  content/23287013.xml   \n",
       "796  medrxiv/Current_Content/March_2023/12bb6c71-6b...  content/23287519.xml   \n",
       "797  medrxiv/Current_Content/March_2023/649ff946-6c...  content/23287669.xml   \n",
       "798  medrxiv/Current_Content/March_2023/cfd88ee4-6b...  content/22276982.xml   \n",
       "799  medrxiv/Current_Content/March_2023/49e4a1b0-6c...  content/23286839.xml   \n",
       "\n",
       "                                                 title  version  \\\n",
       "0    Epigenetic, psychological, and EEG changes aft...      1.1   \n",
       "1    The utility of ChatGPT for cancer treatment in...      1.1   \n",
       "2    Differential expression of fibroblast activati...      1.1   \n",
       "3    Transient loss and recovery of oral chemesthes...      1.1   \n",
       "4    Association between maternal high-risk fertili...      1.1   \n",
       "..                                                 ...      ...   \n",
       "795  Influence of socioeconomic status on the prese...      1.1   \n",
       "796  Endemic-epidemic modelling of school closure t...      1.1   \n",
       "797  b'Long-term Exposure to Ambient PM2.5 and Hosp...      1.1   \n",
       "798  A Targeted Approach for Evaluating DUX4-Regula...      1.2   \n",
       "799  Crop Filling: a pipeline for repairing memory ...      1.1   \n",
       "\n",
       "                                  category                  year_month  \n",
       "0       Psychiatry and Clinical Psychology  {'year': 2023, 'month': 3}  \n",
       "1                       Health Informatics  {'year': 2023, 'month': 3}  \n",
       "2                                 Oncology  {'year': 2023, 'month': 3}  \n",
       "3    Infectious Diseases (except HIV/AIDS)  {'year': 2023, 'month': 3}  \n",
       "4                 Public and Global Health  {'year': 2023, 'month': 3}  \n",
       "..                                     ...                         ...  \n",
       "795                Cardiovascular Medicine  {'year': 2023, 'month': 3}  \n",
       "796                           Epidemiology  {'year': 2023, 'month': 3}  \n",
       "797                           Epidemiology  {'year': 2023, 'month': 3}  \n",
       "798                              Neurology  {'year': 2023, 'month': 3}  \n",
       "799                              Neurology  {'year': 2023, 'month': 3}  \n",
       "\n",
       "[800 rows x 6 columns]"
      ]
     },
     "execution_count": 18,
     "metadata": {},
     "output_type": "execute_result"
    }
   ],
   "source": [
    "tmp_res = tmp_res.assign(year_month=lambda df: df[\"year_month\"].apply(lambda e: ast.literal_eval(e)))\n",
    "\n",
    "tmp_res.info()\n",
    "\n",
    "tmp_res"
   ]
  }
 ],
 "metadata": {
  "kernelspec": {
   "display_name": "Python 3 (ipykernel)",
   "language": "python",
   "name": "python3"
  },
  "language_info": {
   "codemirror_mode": {
    "name": "ipython",
    "version": 3
   },
   "file_extension": ".py",
   "mimetype": "text/x-python",
   "name": "python",
   "nbconvert_exporter": "python",
   "pygments_lexer": "ipython3",
   "version": "3.9.16"
  }
 },
 "nbformat": 4,
 "nbformat_minor": 5
}
