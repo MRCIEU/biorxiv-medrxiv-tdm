{
 "cells": [
  {
   "cell_type": "code",
   "execution_count": 13,
   "id": "c2e3c931-e0a9-432d-ace3-5d82ad0439d3",
   "metadata": {},
   "outputs": [
    {
     "name": "stdout",
     "output_type": "stream",
     "text": [
      "The autoreload extension is already loaded. To reload it, use:\n",
      "  %reload_ext autoreload\n"
     ]
    }
   ],
   "source": [
    "%load_ext autoreload\n",
    "%autoreload 2"
   ]
  },
  {
   "cell_type": "code",
   "execution_count": 14,
   "id": "f4ed3e11-6700-460d-8446-4e29d415b00d",
   "metadata": {},
   "outputs": [],
   "source": [
    "from yiutils.project_utils import find_project_root"
   ]
  },
  {
   "cell_type": "code",
   "execution_count": 16,
   "id": "d6a1a6d6-fc42-44ff-8c2b-cebdcdfdcc5e",
   "metadata": {},
   "outputs": [
    {
     "name": "stdout",
     "output_type": "stream",
     "text": [
      "/data/ik18445/projects/biorxiv-medrxiv-tdm\n"
     ]
    }
   ],
   "source": [
    "root = find_project_root()\n",
    "print(root)"
   ]
  },
  {
   "cell_type": "code",
   "execution_count": 18,
   "id": "32531531-2bd4-48b6-93b8-896ac2f03a32",
   "metadata": {},
   "outputs": [],
   "source": [
    "from funcs.paths import paths"
   ]
  },
  {
   "cell_type": "code",
   "execution_count": 19,
   "id": "b22c9315-7ce8-457b-8321-3fe865d31f38",
   "metadata": {},
   "outputs": [
    {
     "data": {
      "text/plain": [
       "{'root': PosixPath('/data/ik18445/projects/biorxiv-medrxiv-tdm'),\n",
       " 'data_root': PosixPath('/data/ik18445/projects/biorxiv-medrxiv-tdm/data'),\n",
       " 'raw_data_dir': PosixPath('/data/ik18445/projects/biorxiv-medrxiv-tdm/data/local-source-data'),\n",
       " 'examples_data_dir': PosixPath('/data/ik18445/projects/biorxiv-medrxiv-tdm/data/local-source-data/examples')}"
      ]
     },
     "execution_count": 19,
     "metadata": {},
     "output_type": "execute_result"
    }
   ],
   "source": [
    "paths"
   ]
  },
  {
   "cell_type": "code",
   "execution_count": 20,
   "id": "414db094-aba6-4a3c-b26a-882ddd5146a6",
   "metadata": {},
   "outputs": [
    {
     "data": {
      "text/plain": [
       "True"
      ]
     },
     "execution_count": 20,
     "metadata": {},
     "output_type": "execute_result"
    }
   ],
   "source": [
    "paths[\"examples_data_dir\"].exists()"
   ]
  }
 ],
 "metadata": {
  "kernelspec": {
   "display_name": "Python 3 (ipykernel)",
   "language": "python",
   "name": "python3"
  },
  "language_info": {
   "codemirror_mode": {
    "name": "ipython",
    "version": 3
   },
   "file_extension": ".py",
   "mimetype": "text/x-python",
   "name": "python",
   "nbconvert_exporter": "python",
   "pygments_lexer": "ipython3",
   "version": "3.9.16"
  }
 },
 "nbformat": 4,
 "nbformat_minor": 5
}
