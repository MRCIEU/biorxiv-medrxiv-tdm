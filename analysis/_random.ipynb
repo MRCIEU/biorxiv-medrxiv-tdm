{
 "cells": [
  {
   "cell_type": "code",
   "execution_count": 7,
   "id": "c2e3c931-e0a9-432d-ace3-5d82ad0439d3",
   "metadata": {},
   "outputs": [
    {
     "name": "stdout",
     "output_type": "stream",
     "text": [
      "The autoreload extension is already loaded. To reload it, use:\n",
      "  %reload_ext autoreload\n"
     ]
    }
   ],
   "source": [
    "%load_ext autoreload\n",
    "%autoreload 2"
   ]
  },
  {
   "cell_type": "code",
   "execution_count": 5,
   "id": "7d496a57-b8e3-4c1d-9500-2373bd011669",
   "metadata": {},
   "outputs": [],
   "source": [
    "from funcs.paths import find_proj_root"
   ]
  },
  {
   "cell_type": "code",
   "execution_count": 3,
   "id": "3f0906d5-29bb-4396-8c22-e1cbae059309",
   "metadata": {},
   "outputs": [],
   "source": [
    "root = find_proj_root()"
   ]
  },
  {
   "cell_type": "code",
   "execution_count": 10,
   "id": "32531531-2bd4-48b6-93b8-896ac2f03a32",
   "metadata": {},
   "outputs": [],
   "source": [
    "from funcs.paths import paths"
   ]
  },
  {
   "cell_type": "code",
   "execution_count": 11,
   "id": "b22c9315-7ce8-457b-8321-3fe865d31f38",
   "metadata": {},
   "outputs": [
    {
     "data": {
      "text/plain": [
       "{'root': PosixPath('..'),\n",
       " 'data_root': PosixPath('../data'),\n",
       " 'raw_data_dir': PosixPath('../data/local-source-data'),\n",
       " 'examples_data_dir': PosixPath('../data/local-source-data/examples')}"
      ]
     },
     "execution_count": 11,
     "metadata": {},
     "output_type": "execute_result"
    }
   ],
   "source": [
    "paths"
   ]
  },
  {
   "cell_type": "code",
   "execution_count": 12,
   "id": "414db094-aba6-4a3c-b26a-882ddd5146a6",
   "metadata": {},
   "outputs": [
    {
     "data": {
      "text/plain": [
       "True"
      ]
     },
     "execution_count": 12,
     "metadata": {},
     "output_type": "execute_result"
    }
   ],
   "source": [
    "paths[\"examples_data_dir\"].exists()"
   ]
  }
 ],
 "metadata": {
  "kernelspec": {
   "display_name": "Python 3 (ipykernel)",
   "language": "python",
   "name": "python3"
  },
  "language_info": {
   "codemirror_mode": {
    "name": "ipython",
    "version": 3
   },
   "file_extension": ".py",
   "mimetype": "text/x-python",
   "name": "python",
   "nbconvert_exporter": "python",
   "pygments_lexer": "ipython3",
   "version": "3.9.16"
  }
 },
 "nbformat": 4,
 "nbformat_minor": 5
}
