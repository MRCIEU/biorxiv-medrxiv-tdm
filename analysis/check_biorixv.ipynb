{
 "cells": [
  {
   "cell_type": "code",
   "execution_count": 1,
   "id": "154655b8-1fe0-4e75-89a2-79b883050b94",
   "metadata": {},
   "outputs": [],
   "source": [
    "import sys\n",
    "import json\n",
    "from pathlib import Path\n",
    "from zipfile import ZipFile\n",
    "from pprint import pprint\n",
    "\n",
    "import pandas as pd\n",
    "import xmltodict\n",
    "import html2text\n",
    "from bs4 import BeautifulSoup as bs\n",
    "from pydash import py_\n",
    "from lxml import etree\n",
    "\n",
    "from funcs.paths import paths"
   ]
  },
  {
   "cell_type": "code",
   "execution_count": 11,
   "id": "08f8da02-e0f4-4cb4-80f4-8c3af2157e13",
   "metadata": {},
   "outputs": [],
   "source": [
    "data_dir = paths[\"raw_data_dir\"]\n",
    "input_file = data_dir / \"/data/ik18445/projects/biorxiv-medrxiv-tdm/data/local-source-data/biorxiv/Current_Content/September_2021/55192cb9-6c24-1014-b732-fdce0290684a.meca\"\n",
    "assert input_file.exists(), input_file"
   ]
  },
  {
   "cell_type": "code",
   "execution_count": 14,
   "id": "00723627-3b8d-405a-bce9-24bf572f409b",
   "metadata": {},
   "outputs": [
    {
     "name": "stdout",
     "output_type": "stream",
     "text": [
      "File Name                                             Modified             Size\n",
      "content/451862.xml                             2021-09-28 19:21:32        96091\n",
      "content/451862.pdf                             2021-09-26 18:31:06      6259752\n",
      "content/                                       2021-09-28 19:11:44            0\n",
      "content/451862v2_fig1.tif                      2021-09-27 15:02:56      7049612\n",
      "content/451862v2_fig2.tif                      2021-09-27 15:03:20      5916800\n",
      "content/451862v2_fig3.tif                      2021-09-27 15:03:44      5221328\n",
      "content/451862v2_fig4.tif                      2021-09-27 15:04:04      8194088\n",
      "content/451862v2_fig5.tif                      2021-09-27 15:04:52     11566384\n",
      "content/451862v2_fig6.tif                      2021-09-27 15:05:10      7357812\n",
      "content/451862v2_fig7.tif                      2021-09-27 15:05:30      3361564\n",
      "content/451862v2_fig8.tif                      2021-09-27 15:05:52      5136092\n",
      "directives.xml                                 2021-09-28 19:36:40          280\n",
      "manifest.xml                                   2021-09-28 19:36:36         1957\n",
      "mimetype                                       2021-09-28 19:36:40           20\n",
      "transfer.xml                                   2021-09-28 19:36:36         1102\n"
     ]
    }
   ],
   "source": [
    "with ZipFile(input_file) as zip:\n",
    "    zip.printdir()\n",
    "    fulltext_file = \"content/451862.xml\"\n",
    "    zip_data = zip.read(fulltext_file)\n",
    "\n",
    "bs_content = bs(zip_data, \"xml\")"
   ]
  },
  {
   "cell_type": "code",
   "execution_count": 15,
   "id": "a1de6d21-c819-42cb-acac-640a6f83a731",
   "metadata": {},
   "outputs": [],
   "source": [
    "bs_dict = xmltodict.parse(str(bs_content))"
   ]
  },
  {
   "cell_type": "code",
   "execution_count": 27,
   "id": "1ab11e86-11f7-447b-8b70-0afa96850f66",
   "metadata": {},
   "outputs": [
    {
     "ename": "IndexError",
     "evalue": "list index out of range",
     "output_type": "error",
     "traceback": [
      "\u001b[0;31m---------------------------------------------------------------------------\u001b[0m",
      "\u001b[0;31mIndexError\u001b[0m                                Traceback (most recent call last)",
      "Cell \u001b[0;32mIn[27], line 1\u001b[0m\n\u001b[0;32m----> 1\u001b[0m \u001b[43mpy_\u001b[49m\u001b[38;5;241;43m.\u001b[39;49m\u001b[43mchain\u001b[49m\u001b[43m(\u001b[49m\u001b[43mbs_dict\u001b[49m\u001b[43m)\u001b[49m\u001b[38;5;241;43m.\u001b[39;49m\u001b[43mat\u001b[49m\u001b[43m(\u001b[49m\n\u001b[1;32m      2\u001b[0m \u001b[43m    \u001b[49m\u001b[43m[\u001b[49m\u001b[38;5;124;43m\"\u001b[39;49m\u001b[38;5;124;43marticle\u001b[39;49m\u001b[38;5;124;43m\"\u001b[39;49m\u001b[43m,\u001b[49m\u001b[43m \u001b[49m\u001b[38;5;124;43m\"\u001b[39;49m\u001b[38;5;124;43mfront\u001b[39;49m\u001b[38;5;124;43m\"\u001b[39;49m\u001b[43m,\u001b[49m\u001b[43m \u001b[49m\u001b[38;5;124;43m\"\u001b[39;49m\u001b[38;5;124;43marticle-meta\u001b[39;49m\u001b[38;5;124;43m\"\u001b[39;49m\u001b[43m,\u001b[49m\u001b[43m \u001b[49m\u001b[38;5;124;43m\"\u001b[39;49m\u001b[38;5;124;43marticle-categories\u001b[39;49m\u001b[38;5;124;43m\"\u001b[39;49m\u001b[43m,\u001b[49m\u001b[43m \u001b[49m\u001b[38;5;124;43m\"\u001b[39;49m\u001b[38;5;124;43msubj-group\u001b[39;49m\u001b[38;5;124;43m\"\u001b[39;49m\u001b[43m]\u001b[49m\n\u001b[1;32m      3\u001b[0m \u001b[43m)\u001b[49m\u001b[38;5;241;43m.\u001b[39;49m\u001b[43mthru\u001b[49m\u001b[43m(\u001b[49m\u001b[38;5;28;43;01mlambda\u001b[39;49;00m\u001b[43m \u001b[49m\u001b[43me\u001b[49m\u001b[43m:\u001b[49m\u001b[43m \u001b[49m\u001b[43me\u001b[49m\u001b[43m[\u001b[49m\u001b[38;5;241;43m0\u001b[39;49m\u001b[43m]\u001b[49m\u001b[43m)\u001b[49m\u001b[38;5;241;43m.\u001b[39;49m\u001b[43mfilter\u001b[49m\u001b[43m(\u001b[49m\u001b[38;5;28;43;01mlambda\u001b[39;49;00m\u001b[43m \u001b[49m\u001b[43mcol\u001b[49m\u001b[43m:\u001b[49m\u001b[43m \u001b[49m\u001b[43mcol\u001b[49m\u001b[43m[\u001b[49m\u001b[38;5;124;43m\"\u001b[39;49m\u001b[38;5;124;43m@subj-group-type\u001b[39;49m\u001b[38;5;124;43m\"\u001b[39;49m\u001b[43m]\u001b[49m\u001b[43m \u001b[49m\u001b[38;5;241;43m==\u001b[39;49m\u001b[43m \u001b[49m\u001b[38;5;124;43m\"\u001b[39;49m\u001b[38;5;124;43mhwp-journal-coll\u001b[39;49m\u001b[38;5;124;43m\"\u001b[39;49m\u001b[43m)\u001b[49m\u001b[38;5;241;43m.\u001b[39;49m\u001b[43mvalue\u001b[49m\u001b[43m(\u001b[49m\u001b[43m)\u001b[49m\u001b[43m[\u001b[49m\u001b[38;5;241;43m0\u001b[39;49m\u001b[43m]\u001b[49m[\u001b[38;5;124m\"\u001b[39m\u001b[38;5;124msubject\u001b[39m\u001b[38;5;124m\"\u001b[39m]\n",
      "\u001b[0;31mIndexError\u001b[0m: list index out of range"
     ]
    }
   ],
   "source": [
    "py_.chain(bs_dict).at(\n",
    "    [\"article\", \"front\", \"article-meta\", \"article-categories\", \"subj-group\"]\n",
    ").thru(lambda e: e[0]).filter(lambda col: col[\"@subj-group-type\"] == \"hwp-journal-coll\").value()[0][\"subject\"]"
   ]
  },
  {
   "cell_type": "code",
   "execution_count": 33,
   "id": "fb21b259-9ae6-4ba9-8219-705335a12355",
   "metadata": {},
   "outputs": [
    {
     "data": {
      "text/plain": [
       "[[{'@subj-group-type': 'author-type', 'subject': 'Regular Article'},\n",
       "  {'@subj-group-type': 'heading', 'subject': 'New Results'},\n",
       "  {'@subj-group-type': 'heading', 'subject': 'Genetics'}]]"
      ]
     },
     "execution_count": 33,
     "metadata": {},
     "output_type": "execute_result"
    }
   ],
   "source": [
    "py_.chain(bs_dict).at(\n",
    "    [\"article\", \"front\", \"article-meta\", \"article-categories\", \"subj-group\"]\n",
    ").value()"
   ]
  },
  {
   "cell_type": "code",
   "execution_count": 17,
   "id": "1be67911-112a-487f-b447-e11426dbc398",
   "metadata": {},
   "outputs": [
    {
     "data": {
      "text/plain": [
       "'Differed cell division angle, position of cell proliferative area, and localization of ANGUSTIFOLIA3 in lateral organs'"
      ]
     },
     "execution_count": 17,
     "metadata": {},
     "output_type": "execute_result"
    }
   ],
   "source": [
    "py_.chain(bs_dict).at(\n",
    "    [\"article\", \"front\", \"article-meta\", \"title-group\", \"article-title\"]\n",
    "    ).value()[0]"
   ]
  },
  {
   "cell_type": "code",
   "execution_count": 18,
   "id": "020a2f53-4292-46ee-8142-07126503619a",
   "metadata": {},
   "outputs": [
    {
     "data": {
      "text/plain": [
       "'1.2'"
      ]
     },
     "execution_count": 18,
     "metadata": {},
     "output_type": "execute_result"
    }
   ],
   "source": [
    "py_.chain(bs_dict).at(\n",
    "    [\"article\", \"front\", \"article-meta\", \"article-version\"]\n",
    "    ).value()[0]"
   ]
  },
  {
   "cell_type": "code",
   "execution_count": 21,
   "id": "581bd8e1-27e4-4124-a4fc-1a97d9c24ebe",
   "metadata": {},
   "outputs": [
    {
     "data": {
      "text/plain": [
       "[{'@date-type': 'received', 'day': '09', 'month': '7', 'year': '2021'},\n",
       " {'@date-type': 'rev-recd', 'day': '26', 'month': '9', 'year': '2021'}]"
      ]
     },
     "execution_count": 21,
     "metadata": {},
     "output_type": "execute_result"
    }
   ],
   "source": [
    "py_.chain(bs_dict).at(\n",
    "    [\"article\", \"front\", \"article-meta\", \"history\", \"date\"]\n",
    "    ).flatten().value()"
   ]
  }
 ],
 "metadata": {
  "kernelspec": {
   "display_name": "Python 3 (ipykernel)",
   "language": "python",
   "name": "python3"
  },
  "language_info": {
   "codemirror_mode": {
    "name": "ipython",
    "version": 3
   },
   "file_extension": ".py",
   "mimetype": "text/x-python",
   "name": "python",
   "nbconvert_exporter": "python",
   "pygments_lexer": "ipython3",
   "version": "3.9.16"
  }
 },
 "nbformat": 4,
 "nbformat_minor": 5
}
