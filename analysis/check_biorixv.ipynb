{
 "cells": [
  {
   "cell_type": "code",
   "execution_count": 1,
   "id": "154655b8-1fe0-4e75-89a2-79b883050b94",
   "metadata": {},
   "outputs": [],
   "source": [
    "import sys\n",
    "import json\n",
    "from pathlib import Path\n",
    "from zipfile import ZipFile\n",
    "from pprint import pprint\n",
    "\n",
    "import pandas as pd\n",
    "import xmltodict\n",
    "import html2text\n",
    "from bs4 import BeautifulSoup as bs\n",
    "from pydash import py_\n",
    "from lxml import etree\n",
    "\n",
    "from funcs.paths import paths"
   ]
  },
  {
   "cell_type": "code",
   "execution_count": 38,
   "id": "08f8da02-e0f4-4cb4-80f4-8c3af2157e13",
   "metadata": {},
   "outputs": [],
   "source": [
    "data_dir = paths[\"raw_data_dir\"]\n",
    "input_file = data_dir / \"/data/ik18445/projects/biorxiv-medrxiv-tdm/data/local-source-data//biorxiv/Back_Content/Batch_43/2f6b7e33-6c86-1014-badc-f6195d8c935a.meca\"\n",
    "assert input_file.exists(), input_file"
   ]
  },
  {
   "cell_type": "code",
   "execution_count": 40,
   "id": "00723627-3b8d-405a-bce9-24bf572f409b",
   "metadata": {},
   "outputs": [
    {
     "name": "stdout",
     "output_type": "stream",
     "text": [
      "File Name                                             Modified             Size\n",
      "content/                                       2019-11-10 07:42:16            0\n",
      "content/387233.pdf                             2018-08-23 14:01:26      1239993\n",
      "content/387233.xml                             2019-11-10 07:48:42        82875\n",
      "content/387233_fig1.tif                        2018-12-01 15:36:58       691124\n",
      "content/387233_fig2.tif                        2018-12-01 15:37:12       888416\n",
      "content/387233_fig3.tif                        2018-12-01 15:37:22      5051708\n",
      "content/387233_fig4.tif                        2018-12-01 15:37:32      4677704\n",
      "content/387233_fig5.tif                        2018-12-01 15:38:02       403444\n",
      "content/387233_tbl1.tif                        2018-12-01 15:37:44        93196\n",
      "content/387233_ueqn1.gif                       2019-01-04 10:33:40        12913\n",
      "directives.xml                                 2019-01-04 12:40:48          280\n",
      "manifest.xml                                   2019-01-04 12:40:48         1825\n",
      "mimetype                                       2019-01-04 12:40:48           20\n",
      "transfer.xml                                   2019-01-04 12:40:48         1035\n"
     ]
    }
   ],
   "source": [
    "with ZipFile(input_file) as zip:\n",
    "    zip.printdir()\n",
    "    fulltext_file = \"content/387233.xml\"\n",
    "    zip_data = zip.read(fulltext_file)\n",
    "\n",
    "bs_content = bs(zip_data, \"xml\")"
   ]
  },
  {
   "cell_type": "code",
   "execution_count": 41,
   "id": "a1de6d21-c819-42cb-acac-640a6f83a731",
   "metadata": {},
   "outputs": [],
   "source": [
    "bs_dict = xmltodict.parse(str(bs_content))"
   ]
  },
  {
   "cell_type": "code",
   "execution_count": 42,
   "id": "1c50ad92-1ea9-46c7-84b2-b301c2d526fd",
   "metadata": {},
   "outputs": [
    {
     "data": {
      "text/plain": [
       "[]"
      ]
     },
     "execution_count": 42,
     "metadata": {},
     "output_type": "execute_result"
    }
   ],
   "source": [
    "py_.chain(bs_dict).at(\n",
    "    [\"article\", \"front\", \"article-meta\", \"article-categories\", \"subj-group\", \"subject\"]\n",
    ").thru(lambda e: e[0]).filter(lambda col: col[\"@subj-group-type\"] == \"hwp-journal-coll\").value()"
   ]
  },
  {
   "cell_type": "code",
   "execution_count": 43,
   "id": "1ab11e86-11f7-447b-8b70-0afa96850f66",
   "metadata": {},
   "outputs": [
    {
     "data": {
      "text/plain": [
       "'Microbiology'"
      ]
     },
     "execution_count": 43,
     "metadata": {},
     "output_type": "execute_result"
    }
   ],
   "source": [
    "py_.chain(bs_dict).at(\n",
    "    [\"article\", \"front\", \"article-meta\", \"article-categories\", \"subj-group\"]\n",
    ").thru(lambda e: e[0]).filter(lambda col: col[\"@subj-group-type\"] == \"hwp-journal-coll\").value()[0][\"subject\"]"
   ]
  },
  {
   "cell_type": "code",
   "execution_count": 33,
   "id": "fb21b259-9ae6-4ba9-8219-705335a12355",
   "metadata": {},
   "outputs": [
    {
     "data": {
      "text/plain": [
       "[[{'@subj-group-type': 'author-type', 'subject': 'Regular Article'},\n",
       "  {'@subj-group-type': 'heading', 'subject': 'New Results'},\n",
       "  {'@subj-group-type': 'heading', 'subject': 'Genetics'}]]"
      ]
     },
     "execution_count": 33,
     "metadata": {},
     "output_type": "execute_result"
    }
   ],
   "source": [
    "py_.chain(bs_dict).at(\n",
    "    [\"article\", \"front\", \"article-meta\", \"article-categories\", \"subj-group\"]\n",
    ").value()"
   ]
  },
  {
   "cell_type": "code",
   "execution_count": 44,
   "id": "1be67911-112a-487f-b447-e11426dbc398",
   "metadata": {},
   "outputs": [
    {
     "data": {
      "text/plain": [
       "{'italic': ['Pseudomonas aeruginosa', 'Staphylococcus aureus'],\n",
       " '#text': 'Increased rates of genomic mutation in a biofilm co-culture model of  and'}"
      ]
     },
     "execution_count": 44,
     "metadata": {},
     "output_type": "execute_result"
    }
   ],
   "source": [
    "py_.chain(bs_dict).at(\n",
    "    [\"article\", \"front\", \"article-meta\", \"title-group\", \"article-title\"]\n",
    "    ).value()[0]"
   ]
  },
  {
   "cell_type": "code",
   "execution_count": 45,
   "id": "020a2f53-4292-46ee-8142-07126503619a",
   "metadata": {},
   "outputs": [
    {
     "data": {
      "text/plain": [
       "'1.1'"
      ]
     },
     "execution_count": 45,
     "metadata": {},
     "output_type": "execute_result"
    }
   ],
   "source": [
    "py_.chain(bs_dict).at(\n",
    "    [\"article\", \"front\", \"article-meta\", \"article-version\"]\n",
    "    ).value()[0]"
   ]
  },
  {
   "cell_type": "code",
   "execution_count": 46,
   "id": "581bd8e1-27e4-4124-a4fc-1a97d9c24ebe",
   "metadata": {},
   "outputs": [
    {
     "data": {
      "text/plain": [
       "[{'@date-type': 'received', 'day': '21', 'month': '8', 'year': '2018'},\n",
       " {'@date-type': 'rev-recd', 'day': '21', 'month': '8', 'year': '2018'},\n",
       " {'@date-type': 'accepted', 'day': '21', 'month': '8', 'year': '2018'}]"
      ]
     },
     "execution_count": 46,
     "metadata": {},
     "output_type": "execute_result"
    }
   ],
   "source": [
    "py_.chain(bs_dict).at(\n",
    "    [\"article\", \"front\", \"article-meta\", \"history\", \"date\"]\n",
    "    ).flatten().value()"
   ]
  },
  {
   "cell_type": "code",
   "execution_count": 47,
   "id": "915cd8f3-8a5b-42be-aa75-998a20ee4024",
   "metadata": {},
   "outputs": [
    {
     "data": {
      "text/plain": [
       "[{'@pub-id-type': 'doi', '#text': '10.1101/387233'}]"
      ]
     },
     "execution_count": 47,
     "metadata": {},
     "output_type": "execute_result"
    }
   ],
   "source": [
    "py_.chain(bs_dict).at(\n",
    "    [\"article\", \"front\", \"article-meta\", \"article-id\"]\n",
    "    ).value()"
   ]
  }
 ],
 "metadata": {
  "kernelspec": {
   "display_name": "Python 3 (ipykernel)",
   "language": "python",
   "name": "python3"
  },
  "language_info": {
   "codemirror_mode": {
    "name": "ipython",
    "version": 3
   },
   "file_extension": ".py",
   "mimetype": "text/x-python",
   "name": "python",
   "nbconvert_exporter": "python",
   "pygments_lexer": "ipython3",
   "version": "3.9.16"
  }
 },
 "nbformat": 4,
 "nbformat_minor": 5
}
