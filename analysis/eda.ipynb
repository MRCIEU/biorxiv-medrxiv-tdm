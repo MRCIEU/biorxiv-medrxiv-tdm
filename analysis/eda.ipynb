{
 "cells": [
  {
   "cell_type": "code",
   "execution_count": 71,
   "id": "9dff645d-7d80-4da4-9003-142c64272746",
   "metadata": {},
   "outputs": [],
   "source": [
    "import sys\n",
    "import json\n",
    "from pathlib import Path\n",
    "from zipfile import ZipFile\n",
    "from pprint import pprint\n",
    "\n",
    "import pandas as pd\n",
    "import xmltodict\n",
    "import html2text\n",
    "from bs4 import BeautifulSoup as bs\n",
    "from pydash import py_\n",
    "from lxml import etree\n",
    "\n",
    "from funcs.paths import paths"
   ]
  },
  {
   "cell_type": "code",
   "execution_count": 2,
   "id": "40e0b89f-5045-4584-a465-48150f6869c2",
   "metadata": {},
   "outputs": [],
   "source": [
    "input_dir = paths[\"raw_data_dir\"] / \"medrxiv\" / \"Current_Content\" / \"March_2023\"\n",
    "assert input_dir.exists(), input_dir\n",
    "\n",
    "output_dir = paths[\"tmp_output\"]"
   ]
  },
  {
   "cell_type": "markdown",
   "id": "a52ef87f-6fbe-4884-afb3-9f5f43063568",
   "metadata": {},
   "source": [
    "# folder scan"
   ]
  },
  {
   "cell_type": "code",
   "execution_count": 3,
   "id": "d6e46e47-3a79-4f38-b48c-fb9ba69cb7f4",
   "metadata": {
    "scrolled": true
   },
   "outputs": [
    {
     "name": "stdout",
     "output_type": "stream",
     "text": [
      "1227\n",
      "[PosixPath('/data/ik18445/projects/biorxiv-medrxiv-tdm/data/local-source-data/medrxiv/Current_Content/March_2023/b0e350bd-6d67-1014-ad19-c96e66a09703.meca'), PosixPath('/data/ik18445/projects/biorxiv-medrxiv-tdm/data/local-source-data/medrxiv/Current_Content/March_2023/de06d6bd-6c2f-1014-8025-a0d429fa0c93.meca'), PosixPath('/data/ik18445/projects/biorxiv-medrxiv-tdm/data/local-source-data/medrxiv/Current_Content/March_2023/19da261a-6c3c-1014-8618-af7a582bd05b.meca'), PosixPath('/data/ik18445/projects/biorxiv-medrxiv-tdm/data/local-source-data/medrxiv/Current_Content/March_2023/f0c7fa39-6c1b-1014-b484-8038e16734f9.meca'), PosixPath('/data/ik18445/projects/biorxiv-medrxiv-tdm/data/local-source-data/medrxiv/Current_Content/March_2023/035e37af-6bf4-1014-9da4-9c501f776874.meca')]\n"
     ]
    }
   ],
   "source": [
    "file_list = [_ for _ in input_dir.iterdir() if str(_).endswith(\".meca\")]\n",
    "print(len(file_list))\n",
    "print(file_list[:5])"
   ]
  },
  {
   "cell_type": "code",
   "execution_count": 4,
   "id": "4bb90a2b-d779-4bb4-aeea-0377ad8f7329",
   "metadata": {},
   "outputs": [],
   "source": [
    "NUM_SAMPLE = 50\n",
    "\n",
    "sample_file_list = file_list[:NUM_SAMPLE]"
   ]
  },
  {
   "cell_type": "code",
   "execution_count": 6,
   "id": "0a663050-c8de-4df9-8c5f-c6179587443f",
   "metadata": {
    "scrolled": true
   },
   "outputs": [
    {
     "name": "stdout",
     "output_type": "stream",
     "text": [
      "#0/50: /data/ik18445/projects/biorxiv-medrxiv-tdm/data/local-source-data/medrxiv/Current_Content/March_2023/b0e350bd-6d67-1014-ad19-c96e66a09703.meca\n",
      "File Name                                             Modified             Size\n",
      "content/23286782.xml                           2023-03-08 22:47:40        99666\n",
      "content/23286782.pdf                           2023-03-03 15:46:16       356007\n",
      "content/                                       2023-03-08 22:39:46            0\n",
      "content/23286782v1_fig1.tif                    2023-03-07 02:17:30      5273524\n",
      "content/23286782v1_tbl1.tif                    2023-03-07 02:17:42     13843644\n",
      "content/23286782v1_tbl1a.tif                   2023-03-07 02:17:52      6487852\n",
      "content/23286782v1_tbl2.tif                    2023-03-07 02:18:04     13328436\n",
      "directives.xml                                 2023-03-08 23:39:50          280\n",
      "manifest.xml                                   2023-03-08 23:39:48         1500\n",
      "mimetype                                       2023-03-08 23:39:50           20\n",
      "transfer.xml                                   2023-03-08 23:39:48         1101\n",
      "\n",
      "\n",
      "---\n",
      "\n",
      "\n",
      "#1/50: /data/ik18445/projects/biorxiv-medrxiv-tdm/data/local-source-data/medrxiv/Current_Content/March_2023/de06d6bd-6c2f-1014-8025-a0d429fa0c93.meca\n",
      "File Name                                             Modified             Size\n",
      "content/23287316.xml                           2023-03-25 21:20:10        17809\n",
      "content/23287316.pdf                           2023-03-16 09:53:16       605255\n",
      "content/                                       2023-03-25 19:53:16            0\n",
      "content/23287316v1_fig1.tif                    2023-03-24 01:19:40      1144472\n",
      "content/23287316v1_tbl1.tif                    2023-03-24 01:19:26      3245304\n",
      "directives.xml                                 2023-03-25 21:36:28          280\n",
      "manifest.xml                                   2023-03-25 21:36:28         1098\n",
      "mimetype                                       2023-03-25 21:36:28           20\n",
      "transfer.xml                                   2023-03-25 21:36:28         1101\n",
      "\n",
      "\n",
      "---\n",
      "\n",
      "\n",
      "#2/50: /data/ik18445/projects/biorxiv-medrxiv-tdm/data/local-source-data/medrxiv/Current_Content/March_2023/19da261a-6c3c-1014-8618-af7a582bd05b.meca\n",
      "File Name                                             Modified             Size\n",
      "content/23286752.xml                           2023-03-17 18:05:30        70187\n",
      "content/23286752.pdf                           2023-03-10 01:53:08      1246662\n",
      "content/                                       2023-03-17 17:52:06            0\n",
      "content/23286752v1_fig1.tif                    2023-03-16 14:34:26      4616336\n",
      "content/23286752v1_fig2.tif                    2023-03-16 18:40:32      5200260\n",
      "content/23286752v1_fig3.tif                    2023-03-16 18:40:40      3086844\n",
      "content/23286752v1_fig4.tif                    2023-03-16 18:40:58      4313360\n",
      "content/23286752v1_fig5.tif                    2023-03-16 18:41:08      4641624\n",
      "content/23286752v1_fig6.tif                    2023-03-16 14:36:06      3632468\n",
      "content/23286752v1_fig7.tif                    2023-03-16 18:41:22      3429844\n",
      "content/23286752v1_tbl1.tif                    2023-03-16 14:36:36      6264092\n",
      "directives.xml                                 2023-03-17 18:24:26          280\n",
      "manifest.xml                                   2023-03-17 18:24:24         1984\n",
      "mimetype                                       2023-03-17 18:24:26           20\n",
      "transfer.xml                                   2023-03-17 18:24:24         1101\n",
      "\n",
      "\n",
      "---\n",
      "\n",
      "\n",
      "#3/50: /data/ik18445/projects/biorxiv-medrxiv-tdm/data/local-source-data/medrxiv/Current_Content/March_2023/f0c7fa39-6c1b-1014-b484-8038e16734f9.meca\n",
      "File Name                                             Modified             Size\n",
      "content/23287763.xml                           2023-04-01 19:36:18       129903\n",
      "content/23287763.pdf                           2023-03-27 11:37:08      1909643\n",
      "content/                                       2023-04-01 19:05:00            0\n",
      "content/23287763v1_fig1.tif                    2023-04-01 06:59:26      8450106\n",
      "content/23287763v1_fig2.tif                    2023-04-01 06:59:36      9679748\n",
      "content/23287763v1_fig3.tif                    2023-04-01 06:59:42     14726566\n",
      "content/23287763v1_fig4.tif                    2023-04-01 06:59:48     13553034\n",
      "content/23287763v1_figs1.tif                   2023-04-01 07:00:02     15091690\n",
      "content/23287763v1_figs2.tif                   2023-04-01 07:00:12     16500042\n",
      "content/23287763v1_tbl1.tif                    2023-04-01 06:59:32      5898024\n",
      "directives.xml                                 2023-04-01 21:08:32          280\n",
      "manifest.xml                                   2023-04-01 21:08:30         1875\n",
      "mimetype                                       2023-04-01 21:08:32           20\n",
      "transfer.xml                                   2023-04-01 21:08:30         1101\n",
      "\n",
      "\n",
      "---\n",
      "\n",
      "\n",
      "#4/50: /data/ik18445/projects/biorxiv-medrxiv-tdm/data/local-source-data/medrxiv/Current_Content/March_2023/035e37af-6bf4-1014-9da4-9c501f776874.meca\n",
      "File Name                                             Modified             Size\n",
      "content/23287642.xml                           2023-03-29 13:43:14        64953\n",
      "content/23287642.pdf                           2023-03-23 09:35:08       256826\n",
      "content/                                       2023-03-29 13:24:28            0\n",
      "content/23287642v1_tbl1.tif                    2023-03-28 18:12:58     10686820\n",
      "content/23287642v1_tbl1a.tif                   2023-03-28 18:12:56      1678784\n",
      "content/23287642v1_tbl2.tif                    2023-03-28 10:29:30      7935004\n",
      "content/23287642v1_tbl3.tif                    2023-03-28 18:12:36      6625120\n",
      "content/                                       2023-03-29 13:24:28            0\n",
      "content/23287642v1_ueqn1.gif                   2023-03-28 20:47:26        18260\n",
      "directives.xml                                 2023-03-29 14:43:52          280\n",
      "manifest.xml                                   2023-03-29 14:43:52         1607\n",
      "mimetype                                       2023-03-29 14:43:52           20\n",
      "transfer.xml                                   2023-03-29 14:43:52         1101\n",
      "\n",
      "\n",
      "---\n",
      "\n",
      "\n"
     ]
    }
   ],
   "source": [
    "NUM_PREVIEW = 5\n",
    "for idx, _ in enumerate(sample_file_list[:NUM_PREVIEW]):\n",
    "    with ZipFile(_, \"r\") as zip:\n",
    "        print(f\"#{idx}/{len(sample_file_list)}: {str(_)}\")\n",
    "        zip.printdir()\n",
    "        print(\"\\n\\n---\\n\\n\")"
   ]
  },
  {
   "cell_type": "markdown",
   "id": "17aeb35d-f17d-4b07-9f03-56e6159fcc58",
   "metadata": {},
   "source": [
    "# zip archive scan"
   ]
  },
  {
   "cell_type": "code",
   "execution_count": 8,
   "id": "f90d6b3f-cbb9-4e81-aca9-9e68cb16be4c",
   "metadata": {},
   "outputs": [],
   "source": [
    "zip_file = sample_file_list[0]"
   ]
  },
  {
   "cell_type": "markdown",
   "id": "0e3fc62f-dd33-4eae-a956-bb3169d99a38",
   "metadata": {},
   "source": [
    "### manifest"
   ]
  },
  {
   "cell_type": "code",
   "execution_count": 14,
   "id": "d6fd3a61-22f5-46cf-9f34-70ae83b06cc8",
   "metadata": {},
   "outputs": [
    {
     "name": "stdout",
     "output_type": "stream",
     "text": [
      "<?xml version=\"1.0\" encoding=\"utf-8\"?>\n",
      "<!DOCTYPE manifest SYSTEM \"http://schema.highwire.org/public/MECA/v0.9/Manifest/Manifest.dtd\">\n",
      "<manifest version=\"1.0\" xmlns=\"http://manuscriptexchange.org\">\n",
      " <item id=\"23286782v1\" type=\"article\">\n",
      "  <title>\n",
      "   Epigenetic, psychological, and EEG changes after a 1-week retreat based on mindfulness and compassion for stress reduction: Study protocol of a cross-over randomized controlled trial\n",
      "  </title>\n",
      "  <instance href=\"content/23286782.xml\" media-type=\"application/xml\"/>\n",
      "  <instance href=\"content/23286782.pdf\" media-type=\"application/pdf\"/>\n",
      " </item>\n",
      " <item id=\"directives\" type=\"x-hw-directives\">\n",
      "  <title>\n",
      "   HWX Processing Directives\n",
      "  </title>\n",
      "  <instance href=\"directives.xml\" media-type=\"application/vnd.hw-ingest-pi+xml\"/>\n",
      " </item>\n",
      " <item id=\"transfer\" type=\"transfer-details\">\n",
      "  <title>\n",
      "   MECA Transfer Info\n",
      "  </title>\n",
      "  <instance href=\"transfer.xml\" media-type=\"application/meca-xfer+xml\"/>\n",
      " </item>\n",
      " <item id=\"fig1\" type=\"figure\">\n",
      "  <title>\n",
      "   Fig 1\n",
      "  </title>\n",
      "  <instance href=\"content/23286782v1_fig1.tif\" media-type=\"image/tiff\"/>\n",
      " </item>\n",
      " <item id=\"tbl1\" type=\"table\">\n",
      "  <title>\n",
      "   Table 1\n",
      "  </title>\n",
      "  <instance href=\"content/23286782v1_tbl1.tif\" media-type=\"image/tiff\"/>\n",
      " </item>\n",
      " <item id=\"tbl1a\" type=\"table\">\n",
      "  <title>\n",
      "   Table 1\n",
      "  </title>\n",
      "  <instance href=\"content/23286782v1_tbl1a.tif\" media-type=\"image/tiff\"/>\n",
      " </item>\n",
      " <item id=\"tbl2\" type=\"table\">\n",
      "  <title>\n",
      "   Table 2\n",
      "  </title>\n",
      "  <instance href=\"content/23286782v1_tbl2.tif\" media-type=\"image/tiff\"/>\n",
      " </item>\n",
      "</manifest>\n",
      "\n"
     ]
    }
   ],
   "source": [
    "manifest_file = \"manifest.xml\"\n",
    "with ZipFile(zip_file, \"r\") as zip:\n",
    "    zip_data = zip.read(manifest_file)\n",
    "\n",
    "bs_content = bs(zip_data, \"xml\")    \n",
    "print(bs_content.prettify())"
   ]
  },
  {
   "cell_type": "code",
   "execution_count": 15,
   "id": "0a8796c9-e667-4f62-a566-770fdc23fb92",
   "metadata": {
    "scrolled": true
   },
   "outputs": [
    {
     "name": "stdout",
     "output_type": "stream",
     "text": [
      "[<instance href=\"content/23286782.xml\" media-type=\"application/xml\"/>, <instance href=\"content/23286782.pdf\" media-type=\"application/pdf\"/>, <instance href=\"directives.xml\" media-type=\"application/vnd.hw-ingest-pi+xml\"/>, <instance href=\"transfer.xml\" media-type=\"application/meca-xfer+xml\"/>, <instance href=\"content/23286782v1_fig1.tif\" media-type=\"image/tiff\"/>, <instance href=\"content/23286782v1_tbl1.tif\" media-type=\"image/tiff\"/>, <instance href=\"content/23286782v1_tbl1a.tif\" media-type=\"image/tiff\"/>, <instance href=\"content/23286782v1_tbl2.tif\" media-type=\"image/tiff\"/>]\n"
     ]
    }
   ],
   "source": [
    "find_res = bs_content.find_all(\"instance\")\n",
    "print(find_res)"
   ]
  },
  {
   "cell_type": "code",
   "execution_count": 16,
   "id": "2ce3e7f8-2047-4798-b81e-00f535103bc5",
   "metadata": {},
   "outputs": [
    {
     "data": {
      "text/plain": [
       "'content/23286782.xml'"
      ]
     },
     "execution_count": 16,
     "metadata": {},
     "output_type": "execute_result"
    }
   ],
   "source": [
    "find_res[0].attrs[\"href\"]"
   ]
  },
  {
   "cell_type": "code",
   "execution_count": 18,
   "id": "6664cf98-6e06-4d89-8026-5cfbaec6fe30",
   "metadata": {},
   "outputs": [],
   "source": [
    "fulltext_file = find_res[0].attrs[\"href\"]"
   ]
  },
  {
   "cell_type": "markdown",
   "id": "097f4876-40b6-4edb-8986-352574400ef9",
   "metadata": {},
   "source": [
    "### fulltext"
   ]
  },
  {
   "cell_type": "code",
   "execution_count": 88,
   "id": "10e5ef90-bb58-471c-848a-ea4fbdcd1b42",
   "metadata": {},
   "outputs": [],
   "source": [
    "with ZipFile(zip_file, \"r\") as zip:\n",
    "    zip_data = zip.read(fulltext_file)\n",
    "\n",
    "bs_content = bs(zip_data, \"xml\")"
   ]
  },
  {
   "cell_type": "code",
   "execution_count": 64,
   "id": "d12cce51-dab0-45d8-9345-b09436ff6359",
   "metadata": {},
   "outputs": [],
   "source": [
    "fulltext_dump_path = output_dir / \"example_fulltext.xml\"\n",
    "with fulltext_dump_path.open(\"w\") as f:\n",
    "    f.write(bs_content.prettify())\n",
    "\n",
    "bs_dict = xmltodict.parse(str(bs_content))\n",
    "parsed_json_path = output_dir / \"example_parsed_json.json\"\n",
    "with parsed_json_path.open(\"w\") as f:\n",
    "    json.dump(bs_dict, f)"
   ]
  },
  {
   "cell_type": "markdown",
   "id": "a55a7bb1-1cd9-495e-9d1a-2607c8045eae",
   "metadata": {},
   "source": [
    "# metadata extract"
   ]
  },
  {
   "cell_type": "code",
   "execution_count": 40,
   "id": "e1fdee76-944d-45ba-9573-6e62da4c84a2",
   "metadata": {},
   "outputs": [
    {
     "data": {
      "text/plain": [
       "[{'@pub-id-type': 'doi', '#text': '10.1101/2023.03.03.23286782'}]"
      ]
     },
     "execution_count": 40,
     "metadata": {},
     "output_type": "execute_result"
    }
   ],
   "source": [
    "py_.chain(bs_dict).at(\n",
    "    [\"article\", \"front\", \"article-meta\", \"article-id\"]\n",
    "    ).value()"
   ]
  },
  {
   "cell_type": "markdown",
   "id": "4ee299ee-f004-4d61-a424-79424aac91fb",
   "metadata": {},
   "source": [
    "## title"
   ]
  },
  {
   "cell_type": "code",
   "execution_count": 42,
   "id": "34c9b926-cd89-4758-8c53-52189cadd580",
   "metadata": {},
   "outputs": [
    {
     "data": {
      "text/plain": [
       "'Epigenetic, psychological, and EEG changes after a 1-week retreat based on mindfulness and compassion for stress reduction: Study protocol of a cross-over randomized controlled trial'"
      ]
     },
     "execution_count": 42,
     "metadata": {},
     "output_type": "execute_result"
    }
   ],
   "source": [
    "py_.chain(bs_dict).at(\n",
    "    [\"article\", \"front\", \"article-meta\", \"title-group\", \"article-title\"]\n",
    "    ).value()[0]"
   ]
  },
  {
   "cell_type": "markdown",
   "id": "f9768d78-d3ad-46ec-8037-7de695800b1f",
   "metadata": {},
   "source": [
    "## article version"
   ]
  },
  {
   "cell_type": "code",
   "execution_count": 45,
   "id": "33739391-4855-407b-8fef-889e1b8334e7",
   "metadata": {},
   "outputs": [
    {
     "data": {
      "text/plain": [
       "'1.1'"
      ]
     },
     "execution_count": 45,
     "metadata": {},
     "output_type": "execute_result"
    }
   ],
   "source": [
    "py_.chain(bs_dict).at(\n",
    "    [\"article\", \"front\", \"article-meta\", \"article-version\"]\n",
    "    ).value()[0]"
   ]
  },
  {
   "cell_type": "markdown",
   "id": "62e10c18-3d9a-4c1e-bac4-ded8a1e79eef",
   "metadata": {},
   "source": [
    "## category"
   ]
  },
  {
   "cell_type": "code",
   "execution_count": 46,
   "id": "1b94cac8-1060-4255-90dd-d206d4778be4",
   "metadata": {},
   "outputs": [
    {
     "data": {
      "text/plain": [
       "'Psychiatry and Clinical Psychology'"
      ]
     },
     "execution_count": 46,
     "metadata": {},
     "output_type": "execute_result"
    }
   ],
   "source": [
    "py_.chain(bs_dict).at(\n",
    "    [\"article\", \"front\", \"article-meta\", \"article-categories\", \"subj-group\", \"subject\"]\n",
    "    ).value()[0]"
   ]
  },
  {
   "cell_type": "markdown",
   "id": "0b5a70cf-20a9-4e15-a7b6-9b5b95da98cc",
   "metadata": {},
   "source": [
    "## year-month"
   ]
  },
  {
   "cell_type": "code",
   "execution_count": 59,
   "id": "b322613b-6552-4eed-9115-743da9c876e6",
   "metadata": {},
   "outputs": [
    {
     "data": {
      "text/plain": [
       "{'@date-type': 'accepted', 'day': '05', 'month': '3', 'year': '2023'}"
      ]
     },
     "execution_count": 59,
     "metadata": {},
     "output_type": "execute_result"
    }
   ],
   "source": [
    "find_res = py_.chain(bs_dict).at(\n",
    "    [\"article\", \"front\", \"article-meta\", \"history\", \"date\"]\n",
    "    ).flatten().filter(lambda col: col[\"@date-type\"] == \"accepted\").value()[0]\n",
    "find_res"
   ]
  },
  {
   "cell_type": "code",
   "execution_count": 60,
   "id": "68590236-8a01-41d0-8bd4-d355f7f1d0b4",
   "metadata": {},
   "outputs": [
    {
     "data": {
      "text/plain": [
       "{'year': '2023', 'month': '3'}"
      ]
     },
     "execution_count": 60,
     "metadata": {},
     "output_type": "execute_result"
    }
   ],
   "source": [
    "pub_date = {\n",
    "    \"year\": find_res[\"year\"],\n",
    "    \"month\": find_res[\"month\"]\n",
    "}\n",
    "pub_date"
   ]
  },
  {
   "cell_type": "markdown",
   "id": "7be41df7-c420-4216-9fc3-51706b8571af",
   "metadata": {},
   "source": [
    "# fulltext fulltext extract"
   ]
  },
  {
   "cell_type": "markdown",
   "id": "2430de57-646d-47dd-af60-b4c136527397",
   "metadata": {},
   "source": [
    "## abstract"
   ]
  },
  {
   "cell_type": "markdown",
   "id": "48fb0899-d09b-438d-b04e-b02848210172",
   "metadata": {},
   "source": [
    "## discussion"
   ]
  }
 ],
 "metadata": {
  "kernelspec": {
   "display_name": "Python 3 (ipykernel)",
   "language": "python",
   "name": "python3"
  },
  "language_info": {
   "codemirror_mode": {
    "name": "ipython",
    "version": 3
   },
   "file_extension": ".py",
   "mimetype": "text/x-python",
   "name": "python",
   "nbconvert_exporter": "python",
   "pygments_lexer": "ipython3",
   "version": "3.9.16"
  }
 },
 "nbformat": 4,
 "nbformat_minor": 5
}
