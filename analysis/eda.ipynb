{
 "cells": [
  {
   "cell_type": "code",
   "execution_count": 1,
   "id": "9dff645d-7d80-4da4-9003-142c64272746",
   "metadata": {},
   "outputs": [],
   "source": [
    "from pathlib import Path\n",
    "from zipfile import ZipFile\n",
    "\n",
    "import pandas as pd\n",
    "from bs4 import BeautifulSoup as bs"
   ]
  },
  {
   "cell_type": "code",
   "execution_count": 2,
   "id": "40e0b89f-5045-4584-a465-48150f6869c2",
   "metadata": {},
   "outputs": [],
   "source": [
    "data_dir = Path(\"..\") / \"data\" / \"local-source-data\"\n",
    "assert data_dir.exists(), data_dir\n",
    "\n",
    "input_dir = data_dir / \"medrxiv\" / \"Current_Content\" / \"March_2023\"\n",
    "assert input_dir.exists(), input_dir"
   ]
  },
  {
   "cell_type": "code",
   "execution_count": 3,
   "id": "d6e46e47-3a79-4f38-b48c-fb9ba69cb7f4",
   "metadata": {
    "scrolled": true
   },
   "outputs": [
    {
     "name": "stdout",
     "output_type": "stream",
     "text": [
      "1227\n",
      "[PosixPath('../data/local-source-data/medrxiv/Current_Content/March_2023/b0e350bd-6d67-1014-ad19-c96e66a09703.meca'), PosixPath('../data/local-source-data/medrxiv/Current_Content/March_2023/de06d6bd-6c2f-1014-8025-a0d429fa0c93.meca'), PosixPath('../data/local-source-data/medrxiv/Current_Content/March_2023/19da261a-6c3c-1014-8618-af7a582bd05b.meca'), PosixPath('../data/local-source-data/medrxiv/Current_Content/March_2023/f0c7fa39-6c1b-1014-b484-8038e16734f9.meca'), PosixPath('../data/local-source-data/medrxiv/Current_Content/March_2023/035e37af-6bf4-1014-9da4-9c501f776874.meca')]\n"
     ]
    }
   ],
   "source": [
    "file_list = [_ for _ in input_dir.iterdir() if str(_).endswith(\".meca\")]\n",
    "print(len(file_list))\n",
    "print(file_list[:5])"
   ]
  },
  {
   "cell_type": "code",
   "execution_count": 4,
   "id": "4bb90a2b-d779-4bb4-aeea-0377ad8f7329",
   "metadata": {},
   "outputs": [],
   "source": [
    "NUM_SAMPLE = 5\n",
    "\n",
    "sample_file_list = file_list[:NUM_SAMPLE]"
   ]
  },
  {
   "cell_type": "code",
   "execution_count": 5,
   "id": "0a663050-c8de-4df9-8c5f-c6179587443f",
   "metadata": {},
   "outputs": [
    {
     "name": "stdout",
     "output_type": "stream",
     "text": [
      "File Name                                             Modified             Size\n",
      "content/23286782.xml                           2023-03-08 22:47:40        99666\n",
      "content/23286782.pdf                           2023-03-03 15:46:16       356007\n",
      "content/                                       2023-03-08 22:39:46            0\n",
      "content/23286782v1_fig1.tif                    2023-03-07 02:17:30      5273524\n",
      "content/23286782v1_tbl1.tif                    2023-03-07 02:17:42     13843644\n",
      "content/23286782v1_tbl1a.tif                   2023-03-07 02:17:52      6487852\n",
      "content/23286782v1_tbl2.tif                    2023-03-07 02:18:04     13328436\n",
      "directives.xml                                 2023-03-08 23:39:50          280\n",
      "manifest.xml                                   2023-03-08 23:39:48         1500\n",
      "mimetype                                       2023-03-08 23:39:50           20\n",
      "transfer.xml                                   2023-03-08 23:39:48         1101\n"
     ]
    }
   ],
   "source": [
    "zip_file = sample_file_list[0]\n",
    "with ZipFile(zip_file, \"r\") as zip:\n",
    "    zip.printdir()"
   ]
  },
  {
   "cell_type": "code",
   "execution_count": 6,
   "id": "d6fd3a61-22f5-46cf-9f34-70ae83b06cc8",
   "metadata": {},
   "outputs": [
    {
     "name": "stdout",
     "output_type": "stream",
     "text": [
      "b'<?xml version=\"1.0\" encoding=\"UTF-8\" standalone=\"no\"?>\\r\\n<!DOCTYPE manifest SYSTEM \"http://schema.highwire.org/public/MECA/v0.9/Manifest/Manifest.dtd\">\\r\\n<manifest xmlns=\"http://manuscriptexchange.org\" version=\"1.0\">\\r\\n<item type=\"article\" id=\"23286782v1\">\\r\\n<title>Epigenetic, psychological, and EEG changes after a 1-week retreat based on mindfulness and compassion for stress reduction: Study protocol of a cross-over randomized controlled trial</title>\\r\\n<instance media-type=\"application/xml\" href=\"content/23286782.xml\"/>\\r\\n<instance media-type=\"application/pdf\" href=\"content/23286782.pdf\"/>\\r\\n</item>\\r\\n<item id=\"directives\" type=\"x-hw-directives\">\\r\\n<title>HWX Processing Directives</title>\\r\\n<instance media-type=\"application/vnd.hw-ingest-pi+xml\" href=\"directives.xml\"/>\\r\\n</item>\\r\\n<item id=\"transfer\" type=\"transfer-details\">\\r\\n<title>MECA Transfer Info</title>\\r\\n<instance media-type=\"application/meca-xfer+xml\" href=\"transfer.xml\"/>\\r\\n</item>\\r\\n<item id=\"fig1\" type=\"figure\">\\r\\n<title>Fig 1</title>\\r\\n<instance media-type=\"image/tiff\" href=\"content/23286782v1_fig1.tif\"/>\\r\\n</item>\\r\\n<item id=\"tbl1\" type=\"table\">\\r\\n<title>Table 1</title>\\r\\n<instance media-type=\"image/tiff\" href=\"content/23286782v1_tbl1.tif\"/>\\r\\n</item>\\r\\n<item id=\"tbl1a\" type=\"table\">\\r\\n<title>Table 1</title>\\r\\n<instance media-type=\"image/tiff\" href=\"content/23286782v1_tbl1a.tif\"/>\\r\\n</item>\\r\\n<item id=\"tbl2\" type=\"table\">\\r\\n<title>Table 2</title>\\r\\n<instance media-type=\"image/tiff\" href=\"content/23286782v1_tbl2.tif\"/>\\r\\n</item>\\r\\n</manifest>'\n"
     ]
    }
   ],
   "source": [
    "file = \"manifest.xml\"\n",
    "with ZipFile(zip_file, \"r\") as zip:\n",
    "    data = zip.read(file)\n",
    "    print(data)"
   ]
  },
  {
   "cell_type": "code",
   "execution_count": 7,
   "id": "bcc53878-164a-4dba-8287-8c5e29b39ead",
   "metadata": {},
   "outputs": [],
   "source": [
    "bs_content = bs(data, \"xml\")"
   ]
  },
  {
   "cell_type": "code",
   "execution_count": 12,
   "id": "2e7844c4-5a35-46be-8d9e-c3ba88e5215d",
   "metadata": {},
   "outputs": [
    {
     "name": "stdout",
     "output_type": "stream",
     "text": [
      "<manifest version=\"1.0\" xmlns=\"http://manuscriptexchange.org\">\n",
      " <item id=\"23286782v1\" type=\"article\">\n",
      "  <title>\n",
      "   Epigenetic, psychological, and EEG changes after a 1-week retreat based on mindfulness and compassion for stress reduction: Study protocol of a cross-over randomized controlled trial\n",
      "  </title>\n",
      "  <instance href=\"content/23286782.xml\" media-type=\"application/xml\"/>\n",
      "  <instance href=\"content/23286782.pdf\" media-type=\"application/pdf\"/>\n",
      " </item>\n",
      " <item id=\"directives\" type=\"x-hw-directives\">\n",
      "  <title>\n",
      "   HWX Processing Directives\n",
      "  </title>\n",
      "  <instance href=\"directives.xml\" media-type=\"application/vnd.hw-ingest-pi+xml\"/>\n",
      " </item>\n",
      " <item id=\"transfer\" type=\"transfer-details\">\n",
      "  <title>\n",
      "   MECA Transfer Info\n",
      "  </title>\n",
      "  <instance href=\"transfer.xml\" media-type=\"application/meca-xfer+xml\"/>\n",
      " </item>\n",
      " <item id=\"fig1\" type=\"figure\">\n",
      "  <title>\n",
      "   Fig 1\n",
      "  </title>\n",
      "  <instance href=\"content/23286782v1_fig1.tif\" media-type=\"image/tiff\"/>\n",
      " </item>\n",
      " <item id=\"tbl1\" type=\"table\">\n",
      "  <title>\n",
      "   Table 1\n",
      "  </title>\n",
      "  <instance href=\"content/23286782v1_tbl1.tif\" media-type=\"image/tiff\"/>\n",
      " </item>\n",
      " <item id=\"tbl1a\" type=\"table\">\n",
      "  <title>\n",
      "   Table 1\n",
      "  </title>\n",
      "  <instance href=\"content/23286782v1_tbl1a.tif\" media-type=\"image/tiff\"/>\n",
      " </item>\n",
      " <item id=\"tbl2\" type=\"table\">\n",
      "  <title>\n",
      "   Table 2\n",
      "  </title>\n",
      "  <instance href=\"content/23286782v1_tbl2.tif\" media-type=\"image/tiff\"/>\n",
      " </item>\n",
      "</manifest>\n",
      "\n"
     ]
    }
   ],
   "source": [
    "res = bs_content.find(\"manifest\")\n",
    "print(res.prettify())"
   ]
  },
  {
   "cell_type": "code",
   "execution_count": 13,
   "id": "0a8796c9-e667-4f62-a566-770fdc23fb92",
   "metadata": {},
   "outputs": [
    {
     "name": "stdout",
     "output_type": "stream",
     "text": [
      "[<instance href=\"content/23286782.xml\" media-type=\"application/xml\"/>, <instance href=\"content/23286782.pdf\" media-type=\"application/pdf\"/>, <instance href=\"directives.xml\" media-type=\"application/vnd.hw-ingest-pi+xml\"/>, <instance href=\"transfer.xml\" media-type=\"application/meca-xfer+xml\"/>, <instance href=\"content/23286782v1_fig1.tif\" media-type=\"image/tiff\"/>, <instance href=\"content/23286782v1_tbl1.tif\" media-type=\"image/tiff\"/>, <instance href=\"content/23286782v1_tbl1a.tif\" media-type=\"image/tiff\"/>, <instance href=\"content/23286782v1_tbl2.tif\" media-type=\"image/tiff\"/>]\n"
     ]
    }
   ],
   "source": [
    "res = bs_content.find_all(\"instance\")\n",
    "print(res)"
   ]
  },
  {
   "cell_type": "code",
   "execution_count": 19,
   "id": "2ce3e7f8-2047-4798-b81e-00f535103bc5",
   "metadata": {},
   "outputs": [
    {
     "data": {
      "text/plain": [
       "'content/23286782.xml'"
      ]
     },
     "execution_count": 19,
     "metadata": {},
     "output_type": "execute_result"
    }
   ],
   "source": [
    "res[0].attrs[\"href\"]"
   ]
  }
 ],
 "metadata": {
  "kernelspec": {
   "display_name": "Python 3 (ipykernel)",
   "language": "python",
   "name": "python3"
  },
  "language_info": {
   "codemirror_mode": {
    "name": "ipython",
    "version": 3
   },
   "file_extension": ".py",
   "mimetype": "text/x-python",
   "name": "python",
   "nbconvert_exporter": "python",
   "pygments_lexer": "ipython3",
   "version": "3.9.16"
  }
 },
 "nbformat": 4,
 "nbformat_minor": 5
}
