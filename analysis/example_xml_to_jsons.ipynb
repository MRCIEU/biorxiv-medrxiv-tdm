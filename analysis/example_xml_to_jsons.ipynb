{
 "cells": [
  {
   "cell_type": "code",
   "execution_count": 7,
   "id": "5b9a9701-a56f-43f0-9b84-77a76db81f40",
   "metadata": {},
   "outputs": [],
   "source": [
    "import sys\n",
    "import json\n",
    "from pathlib import Path\n",
    "from zipfile import ZipFile\n",
    "from pprint import pprint\n",
    "\n",
    "import pandas as pd\n",
    "import xmltodict\n",
    "from bs4 import BeautifulSoup as bs\n",
    "from loguru import logger\n",
    "\n",
    "from funcs.paths import paths"
   ]
  },
  {
   "cell_type": "code",
   "execution_count": 3,
   "id": "eebe94b0-e9e1-431a-ab54-069e4ca9a491",
   "metadata": {},
   "outputs": [],
   "source": [
    "input_dir = paths[\"raw_data_dir\"] / \"examples\"\n",
    "assert input_dir.exists(), input_dir\n",
    "\n",
    "output_dir = paths[\"tmp_output\"] / \"examples\"\n",
    "output_dir.mkdir(exist_ok=True)"
   ]
  },
  {
   "cell_type": "code",
   "execution_count": 5,
   "id": "21cb811a-993e-4661-a13c-e1f6ab8360f1",
   "metadata": {},
   "outputs": [
    {
     "name": "stdout",
     "output_type": "stream",
     "text": [
      "[PosixPath('/data/ik18445/projects/biorxiv-medrxiv-tdm/data/local-source-data/examples/0c1a93e7-6c7d-1014-8263-f3e34f963ff6'), PosixPath('/data/ik18445/projects/biorxiv-medrxiv-tdm/data/local-source-data/examples/0a3e547c-6c14-1014-b23d-977b4d602bda'), PosixPath('/data/ik18445/projects/biorxiv-medrxiv-tdm/data/local-source-data/examples/1c135323-6c01-1014-9e9e-bcee29abca77'), PosixPath('/data/ik18445/projects/biorxiv-medrxiv-tdm/data/local-source-data/examples/24887b80-6c04-1014-9445-972a17b06fac'), PosixPath('/data/ik18445/projects/biorxiv-medrxiv-tdm/data/local-source-data/examples/0a2ef310-6c04-1014-8ee5-ac250845df11'), PosixPath('/data/ik18445/projects/biorxiv-medrxiv-tdm/data/local-source-data/examples/1d7e60e6-6cb7-1014-be27-8a6966e18789'), PosixPath('/data/ik18445/projects/biorxiv-medrxiv-tdm/data/local-source-data/examples/0a9a5225-6c3e-1014-b429-f3eaae354361'), PosixPath('/data/ik18445/projects/biorxiv-medrxiv-tdm/data/local-source-data/examples/0a797d56-6c79-1014-907b-e740ddfacd0c')]\n"
     ]
    }
   ],
   "source": [
    "sub_dir_list = [_ for _ in input_dir.iterdir() if _.is_dir()]\n",
    "print(sub_dir_list)"
   ]
  },
  {
   "cell_type": "code",
   "execution_count": 6,
   "id": "4dda5dd0-dcd5-4d2e-b782-87362e52b147",
   "metadata": {},
   "outputs": [
    {
     "data": {
      "text/plain": [
       "['0c1a93e7-6c7d-1014-8263-f3e34f963ff6',\n",
       " '0a3e547c-6c14-1014-b23d-977b4d602bda',\n",
       " '1c135323-6c01-1014-9e9e-bcee29abca77',\n",
       " '24887b80-6c04-1014-9445-972a17b06fac',\n",
       " '0a2ef310-6c04-1014-8ee5-ac250845df11',\n",
       " '1d7e60e6-6cb7-1014-be27-8a6966e18789',\n",
       " '0a9a5225-6c3e-1014-b429-f3eaae354361',\n",
       " '0a797d56-6c79-1014-907b-e740ddfacd0c']"
      ]
     },
     "execution_count": 6,
     "metadata": {},
     "output_type": "execute_result"
    }
   ],
   "source": [
    "[\n",
    "    _.stem for _ in sub_dir_list\n",
    "]"
   ]
  },
  {
   "cell_type": "code",
   "execution_count": 18,
   "id": "074498d3-8ee3-468c-b446-812faf4e5aa5",
   "metadata": {},
   "outputs": [],
   "source": [
    "def convert_xml_to_json(input_path: Path, output_dir: Path) -> bool:\n",
    "    # get stem name\n",
    "    stem = input_path.stem\n",
    "    logger.info(f\"start: {stem}\")\n",
    "    # get fulltext location\n",
    "    manifest_path = input_path / \"manifest.xml\"\n",
    "    with manifest_path.open() as f:\n",
    "        manifest_content = f.read()\n",
    "    bs_content = bs(manifest_content, \"xml\")\n",
    "    find_res = bs_content.find_all(\"instance\")\n",
    "    # NOTE: sometimes it is the downward slash...\n",
    "    fulltext_file = find_res[0].attrs[\"href\"].replace(\"\\\\\", \"/\")\n",
    "    fulltext_path = input_path / fulltext_file\n",
    "    assert fulltext_path.exists(), fulltext_path\n",
    "    # read in xml\n",
    "    with fulltext_path.open() as f:\n",
    "        fulltext_content = f.read()\n",
    "    bs_content = bs(fulltext_content, \"xml\")\n",
    "    # convert xml\n",
    "    bs_dict = xmltodict.parse(str(bs_content))\n",
    "    # dump output json\n",
    "    output_path = output_dir / f\"{stem}.json\"\n",
    "    with output_path.open(\"w\") as f:\n",
    "        json.dump(bs_dict, f)\n",
    "    logger.info(f\"done: {stem}\")\n",
    "    return True"
   ]
  },
  {
   "cell_type": "code",
   "execution_count": 19,
   "id": "b9d5619c-e3ad-482d-89b7-744c039c9b12",
   "metadata": {},
   "outputs": [
    {
     "name": "stderr",
     "output_type": "stream",
     "text": [
      "\u001b[32m2023-07-19 17:31:17.974\u001b[0m | \u001b[1mINFO    \u001b[0m | \u001b[36m__main__\u001b[0m:\u001b[36mconvert_xml_to_json\u001b[0m:\u001b[36m4\u001b[0m - \u001b[1mstart: 0c1a93e7-6c7d-1014-8263-f3e34f963ff6\u001b[0m\n",
      "\u001b[32m2023-07-19 17:31:18.023\u001b[0m | \u001b[1mINFO    \u001b[0m | \u001b[36m__main__\u001b[0m:\u001b[36mconvert_xml_to_json\u001b[0m:\u001b[36m24\u001b[0m - \u001b[1mdone: 0c1a93e7-6c7d-1014-8263-f3e34f963ff6\u001b[0m\n",
      "\u001b[32m2023-07-19 17:31:18.024\u001b[0m | \u001b[1mINFO    \u001b[0m | \u001b[36m__main__\u001b[0m:\u001b[36mconvert_xml_to_json\u001b[0m:\u001b[36m4\u001b[0m - \u001b[1mstart: 0a3e547c-6c14-1014-b23d-977b4d602bda\u001b[0m\n",
      "\u001b[32m2023-07-19 17:31:18.098\u001b[0m | \u001b[1mINFO    \u001b[0m | \u001b[36m__main__\u001b[0m:\u001b[36mconvert_xml_to_json\u001b[0m:\u001b[36m24\u001b[0m - \u001b[1mdone: 0a3e547c-6c14-1014-b23d-977b4d602bda\u001b[0m\n",
      "\u001b[32m2023-07-19 17:31:18.100\u001b[0m | \u001b[1mINFO    \u001b[0m | \u001b[36m__main__\u001b[0m:\u001b[36mconvert_xml_to_json\u001b[0m:\u001b[36m4\u001b[0m - \u001b[1mstart: 1c135323-6c01-1014-9e9e-bcee29abca77\u001b[0m\n",
      "\u001b[32m2023-07-19 17:31:18.122\u001b[0m | \u001b[1mINFO    \u001b[0m | \u001b[36m__main__\u001b[0m:\u001b[36mconvert_xml_to_json\u001b[0m:\u001b[36m24\u001b[0m - \u001b[1mdone: 1c135323-6c01-1014-9e9e-bcee29abca77\u001b[0m\n",
      "\u001b[32m2023-07-19 17:31:18.123\u001b[0m | \u001b[1mINFO    \u001b[0m | \u001b[36m__main__\u001b[0m:\u001b[36mconvert_xml_to_json\u001b[0m:\u001b[36m4\u001b[0m - \u001b[1mstart: 24887b80-6c04-1014-9445-972a17b06fac\u001b[0m\n",
      "\u001b[32m2023-07-19 17:31:18.155\u001b[0m | \u001b[1mINFO    \u001b[0m | \u001b[36m__main__\u001b[0m:\u001b[36mconvert_xml_to_json\u001b[0m:\u001b[36m24\u001b[0m - \u001b[1mdone: 24887b80-6c04-1014-9445-972a17b06fac\u001b[0m\n",
      "\u001b[32m2023-07-19 17:31:18.157\u001b[0m | \u001b[1mINFO    \u001b[0m | \u001b[36m__main__\u001b[0m:\u001b[36mconvert_xml_to_json\u001b[0m:\u001b[36m4\u001b[0m - \u001b[1mstart: 0a2ef310-6c04-1014-8ee5-ac250845df11\u001b[0m\n",
      "\u001b[32m2023-07-19 17:31:18.220\u001b[0m | \u001b[1mINFO    \u001b[0m | \u001b[36m__main__\u001b[0m:\u001b[36mconvert_xml_to_json\u001b[0m:\u001b[36m24\u001b[0m - \u001b[1mdone: 0a2ef310-6c04-1014-8ee5-ac250845df11\u001b[0m\n",
      "\u001b[32m2023-07-19 17:31:18.222\u001b[0m | \u001b[1mINFO    \u001b[0m | \u001b[36m__main__\u001b[0m:\u001b[36mconvert_xml_to_json\u001b[0m:\u001b[36m4\u001b[0m - \u001b[1mstart: 1d7e60e6-6cb7-1014-be27-8a6966e18789\u001b[0m\n",
      "\u001b[32m2023-07-19 17:31:18.383\u001b[0m | \u001b[1mINFO    \u001b[0m | \u001b[36m__main__\u001b[0m:\u001b[36mconvert_xml_to_json\u001b[0m:\u001b[36m24\u001b[0m - \u001b[1mdone: 1d7e60e6-6cb7-1014-be27-8a6966e18789\u001b[0m\n",
      "\u001b[32m2023-07-19 17:31:18.385\u001b[0m | \u001b[1mINFO    \u001b[0m | \u001b[36m__main__\u001b[0m:\u001b[36mconvert_xml_to_json\u001b[0m:\u001b[36m4\u001b[0m - \u001b[1mstart: 0a9a5225-6c3e-1014-b429-f3eaae354361\u001b[0m\n",
      "\u001b[32m2023-07-19 17:31:18.461\u001b[0m | \u001b[1mINFO    \u001b[0m | \u001b[36m__main__\u001b[0m:\u001b[36mconvert_xml_to_json\u001b[0m:\u001b[36m24\u001b[0m - \u001b[1mdone: 0a9a5225-6c3e-1014-b429-f3eaae354361\u001b[0m\n",
      "\u001b[32m2023-07-19 17:31:18.462\u001b[0m | \u001b[1mINFO    \u001b[0m | \u001b[36m__main__\u001b[0m:\u001b[36mconvert_xml_to_json\u001b[0m:\u001b[36m4\u001b[0m - \u001b[1mstart: 0a797d56-6c79-1014-907b-e740ddfacd0c\u001b[0m\n",
      "\u001b[32m2023-07-19 17:31:18.526\u001b[0m | \u001b[1mINFO    \u001b[0m | \u001b[36m__main__\u001b[0m:\u001b[36mconvert_xml_to_json\u001b[0m:\u001b[36m24\u001b[0m - \u001b[1mdone: 0a797d56-6c79-1014-907b-e740ddfacd0c\u001b[0m\n"
     ]
    },
    {
     "data": {
      "text/plain": [
       "[True, True, True, True, True, True, True, True]"
      ]
     },
     "execution_count": 19,
     "metadata": {},
     "output_type": "execute_result"
    }
   ],
   "source": [
    "[\n",
    "    convert_xml_to_json(_, output_dir=output_dir) for _ in sub_dir_list\n",
    "]"
   ]
  }
 ],
 "metadata": {
  "kernelspec": {
   "display_name": "Python 3 (ipykernel)",
   "language": "python",
   "name": "python3"
  },
  "language_info": {
   "codemirror_mode": {
    "name": "ipython",
    "version": 3
   },
   "file_extension": ".py",
   "mimetype": "text/x-python",
   "name": "python",
   "nbconvert_exporter": "python",
   "pygments_lexer": "ipython3",
   "version": "3.9.16"
  }
 },
 "nbformat": 4,
 "nbformat_minor": 5
}
